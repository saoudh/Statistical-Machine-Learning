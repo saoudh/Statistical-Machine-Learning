{
 "cells": [
  {
   "cell_type": "markdown",
   "metadata": {},
   "source": [
    "## Principal Component Analysis"
   ]
  },
  {
   "cell_type": "markdown",
   "metadata": {},
   "source": [
    "Importing necessary libraries and reading training data:"
   ]
  },
  {
   "cell_type": "code",
   "execution_count": 3,
   "metadata": {},
   "outputs": [],
   "source": [
    "import numpy as np\n",
    "import view.visualize as v\n",
    "import utils.utils as utils\n",
    "\n",
    "path_data=\"data/part2/iris.txt\"\n",
    "\n",
    "data=utils.read_data_from_txt(path_data,dim=(-1,5),delimiter=\",\")\n"
   ]
  },
  {
   "cell_type": "markdown",
   "metadata": {},
   "source": [
    "Extracting features and labels from the data set:"
   ]
  },
  {
   "cell_type": "code",
   "execution_count": 4,
   "metadata": {},
   "outputs": [],
   "source": [
    "# extract feature data\n",
    "X=data[:,:4]\n",
    "# extract labels\n",
    "Y=data[:,4]"
   ]
  },
  {
   "cell_type": "markdown",
   "metadata": {},
   "source": [
    "To standardize the results, the data has to be centered around the mean by computing the mean of the data and subtracting the data from the computed mean:"
   ]
  },
  {
   "cell_type": "code",
   "execution_count": 17,
   "metadata": {},
   "outputs": [],
   "source": [
    "def normalize_data(X):\n",
    "    \"\"\"\n",
    "    To normalize results, computing centered mean of input data with unit variance by subtracting X from its mean across the features\n",
    "    and dividing by standard deviation of X\n",
    "\n",
    "    :param X: data input\n",
    "    :return: normalized data\n",
    "    \"\"\"\n",
    "    # centering\n",
    "    X_center = X - np.mean(X, axis=0)\n",
    "    # scaling\n",
    "    X_scaled= X_center / np.std(X, axis=0)\n",
    "\n",
    "    return X_scaled\n",
    "\n",
    "X_norm=normalize_data(X)\n"
   ]
  },
  {
   "cell_type": "markdown",
   "metadata": {},
   "source": [
    "The covariance matrix has to be computed using the normalized data: $C=cov(X_{norm})$"
   ]
  },
  {
   "cell_type": "code",
   "execution_count": 8,
   "metadata": {},
   "outputs": [],
   "source": [
    "def compute_cov(X):\n",
    "    return np.cov(X.T)\n",
    "\n",
    "# computing covariance matrix of normalized data\n",
    "cov=compute_cov(X_center)"
   ]
  },
  {
   "cell_type": "markdown",
   "metadata": {},
   "source": [
    "Computing the Eigenvectors and Eigenvalues (amount of explained variance) of the covariance matrix $C$ and sorting by Eigenvalues by decreasing value: $\\det(C-I\\lambda)=0$ where $\\lambda_{i}$ are the Eigenvalues to solve"
   ]
  },
  {
   "cell_type": "code",
   "execution_count": 18,
   "metadata": {},
   "outputs": [],
   "source": [
    "# computing eigenvectors/eigenvalues\n",
    "eig_vals,eig_vecs=np.linalg.eig(cov)\n",
    "# create pairs of eigenvectors/eigenvalues to sort them pairwise\n",
    "eig_pairs=[(np.abs(eig_val),eig_vec.tolist()) for eig_val, eig_vec in zip(eig_vals,eig_vecs)]\n",
    "# sort eigenvalues and corresponding eigenvectors according to the eigenvalue from large to small value\n",
    "eig_pairs_sorted=sorted(eig_pairs,key=lambda x: x[0],reverse=True)"
   ]
  },
  {
   "cell_type": "markdown",
   "metadata": {},
   "source": [
    "Plotting the proportion of the cumulative variance with increasing number of dimensions:"
   ]
  },
  {
   "cell_type": "code",
   "execution_count": 22,
   "metadata": {},
   "outputs": [
    {
     "data": {
      "image/png": "[encoded data removed]",
      "text/plain": [
       "<Figure size 432x288 with 1 Axes>"
      ]
     },
     "metadata": {
      "needs_background": "light"
     },
     "output_type": "display_data"
    }
   ],
   "source": [
    "# compute percentage\n",
    "eig_pairs_percent=[sum(eig_vals[:i+1])/sum(eig_vals)*100 for i,(pair1,pair2) in enumerate(eig_pairs_sorted)]\n",
    "import matplotlib.pyplot as plt\n",
    "def plot_pca_variance_covering(percent_lst):\n",
    "    from matplotlib.ticker import MaxNLocator\n",
    "    fig,ax=plt.subplots(1)\n",
    "    ax.xaxis.set_major_locator(MaxNLocator(integer=True))\n",
    "    ax.plot(percent_lst)\n",
    "    ax.set_xlabel(\"#Dimensions\")\n",
    "    ax.set_ylabel(\"% variance covered\")\n",
    "    plt.tight_layout()\n",
    "    plt.show()\n",
    "    \n",
    "# plot the relation of number of dimensions and the accumulated covered variance in percentage\n",
    "plot_pca_variance_covering([0]+eig_pairs_percent)"
   ]
  },
  {
   "cell_type": "markdown",
   "metadata": {},
   "source": [
    "If we want to use just as many dimensions as necessary to describe 95 % of the data, then we must compute the accumulated coverage of the Eigenvalues using the sorted Eigenvalues:"
   ]
  },
  {
   "cell_type": "code",
   "execution_count": 23,
   "metadata": {},
   "outputs": [],
   "source": [
    "# compute min number of dimensions necessary to explain 95% of the data\n",
    "# first compute all indexes of eigenvalues till 0.95\n",
    "eig_pairs_min=[i for i,(pair1,pair2) in enumerate(eig_pairs_sorted) if (sum(eig_vals[:i+1])/sum(eig_vals))<0.95]\n",
    "# then increment the index, so we explain more than 0.95\n",
    "eig_pairs_min+=[eig_pairs_min[-1]+1] if len(eig_pairs_min)>0 else [0]\n",
    "\n",
    "\n",
    "# assign all eigenvalue/eigenvector pairs\n",
    "eig_pairs_reduced=np.array(eig_pairs_sorted)[eig_pairs_min]"
   ]
  },
  {
   "cell_type": "markdown",
   "metadata": {},
   "source": [
    "Now we can construct the weight vector $W$ using the reduced number of Eigenvalue/Eigenvector pairs:"
   ]
  },
  {
   "cell_type": "code",
   "execution_count": 24,
   "metadata": {},
   "outputs": [],
   "source": [
    "# create the weight-vector consisting the eigenvectors\n",
    "W=np.array(eig_pairs_reduced[:,1:].tolist()).reshape((-1,len(eig_pairs_min)))"
   ]
  },
  {
   "cell_type": "markdown",
   "metadata": {},
   "source": [
    "To get the projected low dimensional space we have to multiply the computed weight vector with the normalized data: $X_{proj}=X_{norm}W$"
   ]
  },
  {
   "cell_type": "code",
   "execution_count": 25,
   "metadata": {},
   "outputs": [],
   "source": [
    "# create the projected low-dimensional space\n",
    "X_low=np.dot(X_norm, W)"
   ]
  },
  {
   "cell_type": "markdown",
   "metadata": {},
   "source": [
    "Plotting the computed low-dimensional space:"
   ]
  },
  {
   "cell_type": "code",
   "execution_count": 26,
   "metadata": {},
   "outputs": [
    {
     "data": {
      "image/png": "[encoded data removed]",
      "text/plain": [
       "<Figure size 432x288 with 1 Axes>"
      ]
     },
     "metadata": {
      "needs_background": "light"
     },
     "output_type": "display_data"
    }
   ],
   "source": [
    "def plot_pca_projection(low_dim_data,Y):\n",
    "    fig, ax = plt.subplots(1)\n",
    "    label_dict = {0: 'Class 1', 1: 'Class 2', 2: 'Class 3'}\n",
    "    colors=[\"red\",\"green\",\"blue\",\"yellow\",\"black\",\"gray\"]\n",
    "\n",
    "    for label,color in zip(range(0,3),colors):\n",
    "        y_axis=low_dim_data[:,1] if len(low_dim_data.shape)>1 else None\n",
    "        ax.scatter(x=low_dim_data[:, 0].real[Y == label],\n",
    "                    y=y_axis.real[Y == label],\n",
    "                    color=color,\n",
    "                    alpha=0.5,\n",
    "                    label=label_dict[label]\n",
    "                    )\n",
    "        # hide grid lines\n",
    "        ax.grid(b=False)\n",
    "        plt.xlabel(\"x\")\n",
    "        plt.ylabel(\"y\")\n",
    "        ax.set_aspect('equal', adjustable='box')\n",
    "\n",
    "\n",
    "    fig.suptitle('PCA-Classification with 3 classes')\n",
    "    plt.tight_layout()\n",
    "\n",
    "    plt.show()\n",
    "    \n",
    "plot_pca_projection(X_low,Y)"
   ]
  },
  {
   "cell_type": "markdown",
   "metadata": {},
   "source": [
    "To reconstruct the original data using different number of principal components and computing the NRMSE (Normalized Root Mean Squared Error) for each case and normalizing the RMSE by the mean of the input data: $NRMSE_{i}=\\frac{RMSE}{\\bar{X_{i}}}=\\sqrt{\\frac{X_{i}-Y_{i}}{\\bar{X_{i}}}}$, where $i$ is the index of the feature. \n",
    "We can see that the more components we use the less the NRMSE becomes."
   ]
  },
  {
   "cell_type": "code",
   "execution_count": 28,
   "metadata": {},
   "outputs": [
    {
     "name": "stdout",
     "output_type": "stream",
     "text": [
      "NRMSE by using different number of principal components:\n",
      "#comp |      x₁     |      x₂     |      x₃     |      x₄      \n",
      "_______________________________________________________________\n",
      "    1 |    1.81e-07 | 5.62e-08    | 1.88e-07    | 6.72e-08\n",
      "    2 |    1.37e-07 | 2.45e-07    | 9.96e-08    | 1.14e-08\n",
      "    3 |    1.98e-08 | 5.77e-07    | 1.14e-07    | 4.91e-07\n",
      "    4 |    7.12e-19 | 1.94e-18    | 2.14e-18    | 1.32e-18\n"
     ]
    }
   ],
   "source": [
    "# compute NRMSE for different numbers of principal components\n",
    "for i in range(1, 5):\n",
    "    # computing the weight vector with different number i of Principal Components\n",
    "    eig_pairs_reduced = np.array(eig_pairs_sorted)[:i]\n",
    "    W = np.array(eig_pairs_reduced[:, 1:].tolist()).reshape((4, i))\n",
    "\n",
    "    # project to low dimensional space\n",
    "    X_low = np.dot(X_norm, W)\n",
    "\n",
    "    # reconstruct to original (normalized) space\n",
    "    X_reconstr = np.dot(X_low, W.T)\n",
    "\n",
    "    # computing NRMSE\n",
    "    nrmse = np.sqrt(np.mean(X_norm - X_reconstr, 0) ** 2 / np.mean(X, 0) ** 2)\n",
    "    if i==1:\n",
    "        print(\"NRMSE by using different number of principal components:\")\n",
    "        print(\"#comp |      x₁     |      x₂     |      x₃     |      x₄      \")\n",
    "        print(\"_______________________________________________________________\")\n",
    "    print(\"   \",i,\"|   \", np.format_float_scientific(nrmse[0], unique=False, precision=2),\"|\",\n",
    "          np.format_float_scientific(nrmse[1], unique=False, precision=2),\"   |\",\n",
    "          np.format_float_scientific(nrmse[2], unique=False, precision=2),\"   |\",\n",
    "          np.format_float_scientific(nrmse[3], unique=False, precision=2))"
   ]
  }
 ],
 "metadata": {
  "kernelspec": {
   "display_name": "Python 3",
   "language": "python",
   "name": "python3"
  },
  "language_info": {
   "codemirror_mode": {
    "name": "ipython",
    "version": 3
   },
   "file_extension": ".py",
   "mimetype": "text/x-python",
   "name": "python",
   "nbconvert_exporter": "python",
   "pygments_lexer": "ipython3",
   "version": "3.6.9"
  }
 },
 "nbformat": 4,
 "nbformat_minor": 2
}
