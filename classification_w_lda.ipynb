{
 "cells": [
  {
   "cell_type": "markdown",
   "metadata": {},
   "source": [
    "## Bayesian Classification (Fisher's) Linear Discriminant Analysis (LDA)"
   ]
  },
  {
   "cell_type": "markdown",
   "metadata": {},
   "source": [
    "Importing necessary libraries and reading training data:"
   ]
  },
  {
   "cell_type": "code",
   "execution_count": 1,
   "metadata": {},
   "outputs": [],
   "source": [
    "import numpy as np\n",
    "import view.visualize as v\n",
    "import utils.utils as utils\n",
    "\n",
    "path_data=\"data/part2/ldaData.txt\"\n",
    "\n",
    "data=utils.read_data_from_txt(path_data,dim=(-1,2))"
   ]
  },
  {
   "cell_type": "markdown",
   "metadata": {},
   "source": [
    "Defnining 2-dimensional data of the 3 different classes:"
   ]
  },
  {
   "cell_type": "code",
   "execution_count": 2,
   "metadata": {},
   "outputs": [],
   "source": [
    "# specify the sample size of each class\n",
    "c1_len=50\n",
    "c2_len=43\n",
    "c3_len=44\n",
    "\n",
    "# data is divided into 3 classes\n",
    "c1=data[:c1_len]\n",
    "c2=data[c1_len:c1_len+c2_len]\n",
    "c3=data[c1_len+c2_len:]"
   ]
  },
  {
   "cell_type": "markdown",
   "metadata": {},
   "source": [
    "Defining labels:"
   ]
  },
  {
   "cell_type": "code",
   "execution_count": 3,
   "metadata": {},
   "outputs": [],
   "source": [
    "# create label vector with classes 0, 1 and 2\n",
    "y_true=np.hstack([np.zeros([c1_len]), 1 * np.ones([c2_len]), 2 * np.ones([c3_len])]).ravel()\n"
   ]
  },
  {
   "cell_type": "markdown",
   "metadata": {},
   "source": [
    "Computing the mean of a given matrix across the 0-axis:"
   ]
  },
  {
   "cell_type": "code",
   "execution_count": 4,
   "metadata": {},
   "outputs": [],
   "source": [
    "def compute_mean_vec(data):\n",
    "    '''\n",
    "    compute mean for each feature of the data for a class\n",
    "\n",
    "    :param data:\n",
    "    :return:\n",
    "    '''\n",
    "    return np.mean(data,axis=0)"
   ]
  },
  {
   "cell_type": "markdown",
   "metadata": {},
   "source": [
    "Computing $S_b$"
   ]
  },
  {
   "cell_type": "code",
   "execution_count": 7,
   "metadata": {},
   "outputs": [],
   "source": [
    "def compute_Sb_between_class_cov(data,**args):\n",
    "    '''\n",
    "    Computing the within class scatter matrix\n",
    "\n",
    "    :param data: original data\n",
    "    :param args: data of each class\n",
    "    :return:\n",
    "    '''\n",
    "    m=compute_mean_vec(data)\n",
    "    Sb = np.array(list(map(lambda c: len(c) * np.outer((compute_mean_vec(c) - m),\n",
    "                                                  (compute_mean_vec(c) - m)),\n",
    "                        args.values())))\n",
    "    Sb=np.sum(Sb,axis=0)\n",
    "\n",
    "    return Sb\n",
    "\n",
    "# compute between class matrix\n",
    "Sb=compute_Sb_between_class_cov(data=data,c1=c1,c2=c2,c3=c3)\n",
    "\n"
   ]
  },
  {
   "cell_type": "markdown",
   "metadata": {},
   "source": [
    "Computing $S_w$"
   ]
  },
  {
   "cell_type": "code",
   "execution_count": 8,
   "metadata": {},
   "outputs": [],
   "source": [
    "def compute_Sw_between_class_cov(**args):\n",
    "    '''\n",
    "    Computing the between class scatter matrix\n",
    "\n",
    "    :param args: data of each class\n",
    "    :return:\n",
    "    '''\n",
    "    Sw=np.array(list(map(lambda c: np.sum([np.outer((x - compute_mean_vec(c)),\n",
    "                    (x - compute_mean_vec(c))) for x in c], axis=0),args.values())))\n",
    "\n",
    "    Sw=np.sum(Sw,axis=0)\n",
    "\n",
    "    return Sw\n",
    "\n",
    "# compute within class matrix\n",
    "Sw=compute_Sw_between_class_cov(c1=c1,c2=c2,c3=c3)"
   ]
  },
  {
   "cell_type": "markdown",
   "metadata": {},
   "source": [
    "Computing Eigenvectors:"
   ]
  },
  {
   "cell_type": "code",
   "execution_count": 9,
   "metadata": {},
   "outputs": [],
   "source": [
    "# compute all Eigenvectors of (Sw^-1 * Sb)\n",
    "_,eigenvecs=np.linalg.eig(np.linalg.inv(Sw).dot(Sb))\n"
   ]
  },
  {
   "cell_type": "markdown",
   "metadata": {},
   "source": [
    "Stacking all Eigenvectors to build matrix W:"
   ]
  },
  {
   "cell_type": "code",
   "execution_count": 10,
   "metadata": {},
   "outputs": [],
   "source": [
    "# build matrix W consisting of each Eigenvector row wise\n",
    "W = np.stack([eigenvecs[0],eigenvecs[1]],axis=0)\n"
   ]
  },
  {
   "cell_type": "markdown",
   "metadata": {},
   "source": [
    "Compute projected data:"
   ]
  },
  {
   "cell_type": "code",
   "execution_count": 11,
   "metadata": {},
   "outputs": [],
   "source": [
    "# compute the projected data by multiplying original 2-dim data with computed matrix W\n",
    "data_lda = data.dot(W)\n"
   ]
  },
  {
   "cell_type": "markdown",
   "metadata": {},
   "source": [
    "Compute bayesian posterior:"
   ]
  },
  {
   "cell_type": "code",
   "execution_count": 12,
   "metadata": {},
   "outputs": [],
   "source": [
    "# compute bayesian posterior p(c|x)=p(c)p(x|c) for each class c using projected data and stack them together R^(N,dim)\n",
    "probs=np.stack([len(data_lda[:c1_len]) / len(data_lda) * utils.gaussian_density_optim(data_lda, mu=np.mean(data_lda[:c1_len], axis=0), sigma=np.cov(data_lda[:c1_len], rowvar=False)),\n",
    "                len(data_lda[c1_len:c1_len + c2_len]) / len(data_lda) * utils.gaussian_density_optim(data_lda, mu=np.mean(data_lda[c1_len:c1_len + c2_len], axis=0), sigma=np.cov(data_lda[c1_len:c1_len + c2_len], rowvar=False)),\n",
    "                len(data_lda[c1_len + c2_len:]) / len(data_lda) * utils.gaussian_density_optim(data_lda, mu=np.mean(data_lda[c1_len + c2_len:], axis=0), sigma=np.cov(data_lda[c1_len + c2_len:], rowvar=False))], axis=1)\n"
   ]
  },
  {
   "cell_type": "markdown",
   "metadata": {},
   "source": [
    "Computing predictions:"
   ]
  },
  {
   "cell_type": "code",
   "execution_count": 13,
   "metadata": {},
   "outputs": [
    {
     "name": "stdout",
     "output_type": "stream",
     "text": [
      "Accuracy: 0.8394160583941606\n",
      "True predictions: 115  out of  137  samples.\n",
      "Missclasified samples: 22  out of  137  samples.\n"
     ]
    }
   ],
   "source": [
    "# predict the class for each sample by applying argmax\n",
    "y_pred=np.argmax(probs,axis=1)\n",
    "\n",
    "print(\"Accuracy:\",np.sum(y_true==y_pred)/len(y_pred))\n",
    "print(\"True predictions:\",np.sum(y_true==y_pred), \" out of \", len(y_true),\" samples.\")\n",
    "print(\"Missclasified samples:\",len(y_true)-np.sum(y_true==y_pred), \" out of \", len(y_true),\" samples.\")\n"
   ]
  },
  {
   "cell_type": "markdown",
   "metadata": {},
   "source": [
    "Plotting the LDA classification results:"
   ]
  },
  {
   "cell_type": "code",
   "execution_count": 18,
   "metadata": {},
   "outputs": [
    {
     "data": {
      "image/png": "[encoded data removed]",
      "text/plain": [
       "<Figure size 432x288 with 2 Axes>"
      ]
     },
     "metadata": {
      "needs_background": "light"
     },
     "output_type": "display_data"
    }
   ],
   "source": [
    "def plot_lda_classification(data,y_true,y_pred):\n",
    "    import matplotlib.pyplot as plt\n",
    "\n",
    "    fig, ax=plt.subplots(nrows=2,ncols=1)\n",
    "    plt.subplots_adjust(hspace=1.0)\n",
    "\n",
    "    label_dict = {0: 'Class 1', 1: 'Class 2', 2: 'Class 3'}\n",
    "    colors=[\"red\",\"green\",\"blue\",\"yellow\",\"black\",\"gray\"]\n",
    "    labels=[\"true data\",\"predicted data\"]\n",
    "\n",
    "    # plot 2 subplots with true labels and predictions\n",
    "    for i,(y,title) in enumerate(zip([y_true,y_pred],labels)):\n",
    "        for label,color in zip(range(0,3),colors):\n",
    "            ax[i].scatter(x=data[:, 0].real[y == label],\n",
    "                        y=data[:, 1].real[y == label],\n",
    "                        color=color,\n",
    "                        alpha=0.5,\n",
    "                        label=label_dict[label]\n",
    "                        )\n",
    "            # hide grid lines\n",
    "            ax[i].grid(b=False)\n",
    "            ax[i].set_title(title, fontsize=\"medium\")\n",
    "            ax[i].set_xlabel(\"x\")\n",
    "            ax[i].set_ylabel(\"y\")\n",
    "\n",
    "\n",
    "\n",
    "    leg = plt.legend(loc='best', fancybox=True)\n",
    "    leg.get_frame().set_alpha(0.5)\n",
    "    fig.suptitle('LDA-Classification with 3 classes')\n",
    "\n",
    "    plt.show()\n",
    "\n",
    "# plot\n",
    "plot_lda_classification(data=data, y_true=y_true, y_pred=y_pred)"
   ]
  },
  {
   "cell_type": "code",
   "execution_count": null,
   "metadata": {},
   "outputs": [],
   "source": []
  }
 ],
 "metadata": {
  "kernelspec": {
   "display_name": "Python 3",
   "language": "python",
   "name": "python3"
  },
  "language_info": {
   "codemirror_mode": {
    "name": "ipython",
    "version": 3
   },
   "file_extension": ".py",
   "mimetype": "text/x-python",
   "name": "python",
   "nbconvert_exporter": "python",
   "pygments_lexer": "ipython3",
   "version": "3.6.9"
  }
 },
 "nbformat": 4,
 "nbformat_minor": 2
}
